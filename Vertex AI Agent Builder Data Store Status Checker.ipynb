{
 "cells": [
  {
   "cell_type": "code",
   "execution_count": 1,
   "id": "5a9353cb-7e1a-42ca-857d-df04c7547ecf",
   "metadata": {
    "tags": []
   },
   "outputs": [
    {
     "name": "stdout",
     "output_type": "stream",
     "text": [
      "Collecting google-cloud-discoveryengine\n",
      "  Downloading google_cloud_discoveryengine-0.11.11-py3-none-any.whl.metadata (5.2 kB)\n",
      "Collecting humanize\n",
      "  Downloading humanize-4.9.0-py3-none-any.whl.metadata (7.9 kB)\n",
      "Requirement already satisfied: google-api-core!=2.0.*,!=2.1.*,!=2.10.*,!=2.2.*,!=2.3.*,!=2.4.*,!=2.5.*,!=2.6.*,!=2.7.*,!=2.8.*,!=2.9.*,<3.0.0dev,>=1.34.1 in /opt/conda/lib/python3.10/site-packages (from google-api-core[grpc]!=2.0.*,!=2.1.*,!=2.10.*,!=2.2.*,!=2.3.*,!=2.4.*,!=2.5.*,!=2.6.*,!=2.7.*,!=2.8.*,!=2.9.*,<3.0.0dev,>=1.34.1->google-cloud-discoveryengine) (1.34.1)\n",
      "Requirement already satisfied: google-auth!=2.24.0,!=2.25.0,<3.0.0dev,>=2.14.1 in /opt/conda/lib/python3.10/site-packages (from google-cloud-discoveryengine) (2.29.0)\n",
      "Requirement already satisfied: proto-plus<2.0.0dev,>=1.22.3 in /opt/conda/lib/python3.10/site-packages (from google-cloud-discoveryengine) (1.23.0)\n",
      "Requirement already satisfied: protobuf!=3.20.0,!=3.20.1,!=4.21.0,!=4.21.1,!=4.21.2,!=4.21.3,!=4.21.4,!=4.21.5,<5.0.0dev,>=3.19.5 in /opt/conda/lib/python3.10/site-packages (from google-cloud-discoveryengine) (3.20.3)\n",
      "Requirement already satisfied: googleapis-common-protos<2.0dev,>=1.56.2 in /opt/conda/lib/python3.10/site-packages (from google-api-core!=2.0.*,!=2.1.*,!=2.10.*,!=2.2.*,!=2.3.*,!=2.4.*,!=2.5.*,!=2.6.*,!=2.7.*,!=2.8.*,!=2.9.*,<3.0.0dev,>=1.34.1->google-api-core[grpc]!=2.0.*,!=2.1.*,!=2.10.*,!=2.2.*,!=2.3.*,!=2.4.*,!=2.5.*,!=2.6.*,!=2.7.*,!=2.8.*,!=2.9.*,<3.0.0dev,>=1.34.1->google-cloud-discoveryengine) (1.63.0)\n",
      "Requirement already satisfied: requests<3.0.0dev,>=2.18.0 in /opt/conda/lib/python3.10/site-packages (from google-api-core!=2.0.*,!=2.1.*,!=2.10.*,!=2.2.*,!=2.3.*,!=2.4.*,!=2.5.*,!=2.6.*,!=2.7.*,!=2.8.*,!=2.9.*,<3.0.0dev,>=1.34.1->google-api-core[grpc]!=2.0.*,!=2.1.*,!=2.10.*,!=2.2.*,!=2.3.*,!=2.4.*,!=2.5.*,!=2.6.*,!=2.7.*,!=2.8.*,!=2.9.*,<3.0.0dev,>=1.34.1->google-cloud-discoveryengine) (2.31.0)\n",
      "Requirement already satisfied: grpcio<2.0dev,>=1.33.2 in /opt/conda/lib/python3.10/site-packages (from google-api-core[grpc]!=2.0.*,!=2.1.*,!=2.10.*,!=2.2.*,!=2.3.*,!=2.4.*,!=2.5.*,!=2.6.*,!=2.7.*,!=2.8.*,!=2.9.*,<3.0.0dev,>=1.34.1->google-cloud-discoveryengine) (1.62.1)\n",
      "Requirement already satisfied: grpcio-status<2.0dev,>=1.33.2 in /opt/conda/lib/python3.10/site-packages (from google-api-core[grpc]!=2.0.*,!=2.1.*,!=2.10.*,!=2.2.*,!=2.3.*,!=2.4.*,!=2.5.*,!=2.6.*,!=2.7.*,!=2.8.*,!=2.9.*,<3.0.0dev,>=1.34.1->google-cloud-discoveryengine) (1.48.2)\n",
      "Requirement already satisfied: cachetools<6.0,>=2.0.0 in /opt/conda/lib/python3.10/site-packages (from google-auth!=2.24.0,!=2.25.0,<3.0.0dev,>=2.14.1->google-cloud-discoveryengine) (5.3.3)\n",
      "Requirement already satisfied: pyasn1-modules>=0.2.1 in /opt/conda/lib/python3.10/site-packages (from google-auth!=2.24.0,!=2.25.0,<3.0.0dev,>=2.14.1->google-cloud-discoveryengine) (0.4.0)\n",
      "Requirement already satisfied: rsa<5,>=3.1.4 in /opt/conda/lib/python3.10/site-packages (from google-auth!=2.24.0,!=2.25.0,<3.0.0dev,>=2.14.1->google-cloud-discoveryengine) (4.9)\n",
      "Requirement already satisfied: pyasn1<0.7.0,>=0.4.6 in /opt/conda/lib/python3.10/site-packages (from pyasn1-modules>=0.2.1->google-auth!=2.24.0,!=2.25.0,<3.0.0dev,>=2.14.1->google-cloud-discoveryengine) (0.6.0)\n",
      "Requirement already satisfied: charset-normalizer<4,>=2 in /opt/conda/lib/python3.10/site-packages (from requests<3.0.0dev,>=2.18.0->google-api-core!=2.0.*,!=2.1.*,!=2.10.*,!=2.2.*,!=2.3.*,!=2.4.*,!=2.5.*,!=2.6.*,!=2.7.*,!=2.8.*,!=2.9.*,<3.0.0dev,>=1.34.1->google-api-core[grpc]!=2.0.*,!=2.1.*,!=2.10.*,!=2.2.*,!=2.3.*,!=2.4.*,!=2.5.*,!=2.6.*,!=2.7.*,!=2.8.*,!=2.9.*,<3.0.0dev,>=1.34.1->google-cloud-discoveryengine) (3.3.2)\n",
      "Requirement already satisfied: idna<4,>=2.5 in /opt/conda/lib/python3.10/site-packages (from requests<3.0.0dev,>=2.18.0->google-api-core!=2.0.*,!=2.1.*,!=2.10.*,!=2.2.*,!=2.3.*,!=2.4.*,!=2.5.*,!=2.6.*,!=2.7.*,!=2.8.*,!=2.9.*,<3.0.0dev,>=1.34.1->google-api-core[grpc]!=2.0.*,!=2.1.*,!=2.10.*,!=2.2.*,!=2.3.*,!=2.4.*,!=2.5.*,!=2.6.*,!=2.7.*,!=2.8.*,!=2.9.*,<3.0.0dev,>=1.34.1->google-cloud-discoveryengine) (3.7)\n",
      "Requirement already satisfied: urllib3<3,>=1.21.1 in /opt/conda/lib/python3.10/site-packages (from requests<3.0.0dev,>=2.18.0->google-api-core!=2.0.*,!=2.1.*,!=2.10.*,!=2.2.*,!=2.3.*,!=2.4.*,!=2.5.*,!=2.6.*,!=2.7.*,!=2.8.*,!=2.9.*,<3.0.0dev,>=1.34.1->google-api-core[grpc]!=2.0.*,!=2.1.*,!=2.10.*,!=2.2.*,!=2.3.*,!=2.4.*,!=2.5.*,!=2.6.*,!=2.7.*,!=2.8.*,!=2.9.*,<3.0.0dev,>=1.34.1->google-cloud-discoveryengine) (1.26.18)\n",
      "Requirement already satisfied: certifi>=2017.4.17 in /opt/conda/lib/python3.10/site-packages (from requests<3.0.0dev,>=2.18.0->google-api-core!=2.0.*,!=2.1.*,!=2.10.*,!=2.2.*,!=2.3.*,!=2.4.*,!=2.5.*,!=2.6.*,!=2.7.*,!=2.8.*,!=2.9.*,<3.0.0dev,>=1.34.1->google-api-core[grpc]!=2.0.*,!=2.1.*,!=2.10.*,!=2.2.*,!=2.3.*,!=2.4.*,!=2.5.*,!=2.6.*,!=2.7.*,!=2.8.*,!=2.9.*,<3.0.0dev,>=1.34.1->google-cloud-discoveryengine) (2024.2.2)\n",
      "Downloading google_cloud_discoveryengine-0.11.11-py3-none-any.whl (1.8 MB)\n",
      "\u001b[2K   \u001b[90m━━━━━━━━━━━━━━━━━━━━━━━━━━━━━━━━━━━━━━━━\u001b[0m \u001b[32m1.8/1.8 MB\u001b[0m \u001b[31m3.3 MB/s\u001b[0m eta \u001b[36m0:00:00\u001b[0m00:01\u001b[0m00:01\u001b[0m\n",
      "\u001b[?25hDownloading humanize-4.9.0-py3-none-any.whl (126 kB)\n",
      "\u001b[2K   \u001b[90m━━━━━━━━━━━━━━━━━━━━━━━━━━━━━━━━━━━━━━━━\u001b[0m \u001b[32m126.8/126.8 kB\u001b[0m \u001b[31m3.7 MB/s\u001b[0m eta \u001b[36m0:00:00\u001b[0m\n",
      "\u001b[?25hInstalling collected packages: humanize, google-cloud-discoveryengine\n",
      "Successfully installed google-cloud-discoveryengine-0.11.11 humanize-4.9.0\n",
      "\u001b[33mWARNING: Running pip as the 'root' user can result in broken permissions and conflicting behaviour with the system package manager. It is recommended to use a virtual environment instead: https://pip.pypa.io/warnings/venv\u001b[0m\u001b[33m\n",
      "\u001b[0mNote: you may need to restart the kernel to use updated packages.\n"
     ]
    }
   ],
   "source": [
    "pip install --upgrade google-cloud-discoveryengine humanize"
   ]
  },
  {
   "cell_type": "code",
   "execution_count": 1,
   "id": "86ebbacf-d6be-44fa-92f3-1387f0068b3a",
   "metadata": {
    "tags": []
   },
   "outputs": [],
   "source": [
    "import humanize\n",
    "import time\n",
    "import re\n",
    "from typing import List, Optional\n",
    "\n",
    "from google.api_core.client_options import ClientOptions\n",
    "from google.cloud import discoveryengine_v1beta as discoveryengine\n",
    "\n",
    "\n",
    "def _call_list_documents(\n",
    "    project_id: str, location: str, datastore_id: str, page_token: Optional[str] = None\n",
    ") -> discoveryengine.ListDocumentsResponse:\n",
    "    \"\"\"Build the List Docs Request payload.\"\"\"\n",
    "    client_options = (\n",
    "        ClientOptions(\n",
    "            api_endpoint=f\"{location}-discoveryengine.googleapis.com\")\n",
    "        if location != \"global\"\n",
    "        else None\n",
    "    )\n",
    "    client = discoveryengine.DocumentServiceClient(\n",
    "        client_options=client_options)\n",
    "\n",
    "    request = discoveryengine.ListDocumentsRequest(\n",
    "        parent=client.branch_path(\n",
    "            project_id, location, datastore_id, \"default_branch\"\n",
    "        ),\n",
    "        page_size=1000,\n",
    "        page_token=page_token,\n",
    "    )\n",
    "\n",
    "    return client.list_documents(request=request)\n",
    "\n",
    "\n",
    "def list_documents(\n",
    "    project_id: str, location: str, datastore_id: str, rate_limit: int = 1\n",
    ") -> List[discoveryengine.Document]:\n",
    "    \"\"\"Gets a list of docs in a datastore.\"\"\"\n",
    "\n",
    "    res = _call_list_documents(project_id, location, datastore_id)\n",
    "\n",
    "    # setup the list with the first batch of docs\n",
    "    docs = res.documents\n",
    "\n",
    "    while res.next_page_token:\n",
    "        # implement a rate_limit to prevent quota exhaustion\n",
    "        time.sleep(rate_limit)\n",
    "\n",
    "        res = _call_list_documents(\n",
    "            project_id, location, datastore_id, res.next_page_token\n",
    "        )\n",
    "        docs.extend(res.documents)\n",
    "\n",
    "    return docs\n",
    "\n",
    "\n",
    "def list_indexed_urls(\n",
    "    docs: Optional[List[discoveryengine.Document]] = None,\n",
    "    project_id: str = None,\n",
    "    location: str = None,\n",
    "    datastore_id: str = None,\n",
    ") -> List[str]:\n",
    "    \"\"\"Get the list of docs in data store, then parse to only urls.\"\"\"\n",
    "    if not docs:\n",
    "        docs = list_documents(project_id, location, datastore_id)\n",
    "    urls = [doc.content.uri for doc in docs]\n",
    "\n",
    "    return urls\n",
    "\n",
    "\n",
    "def search_url(urls: List[str], url: str) -> None:\n",
    "    \"\"\"Searches a url in a list of urls.\"\"\"\n",
    "    for item in urls:\n",
    "        if url in item:\n",
    "            print(item)\n",
    "\n",
    "\n",
    "def search_doc_id(\n",
    "    doc_id: str,\n",
    "    docs: Optional[List[discoveryengine.Document]] = None,\n",
    "    project_id: str = None,\n",
    "    location: str = None,\n",
    "    datastore_id: str = None,\n",
    ") -> None:\n",
    "    \"\"\"Searches a doc_id in a list of docs.\"\"\"\n",
    "    if not docs:\n",
    "        docs = list_documents(project_id, location, datastore_id)\n",
    "\n",
    "    doc_found = False\n",
    "    for doc in docs:\n",
    "        if doc.parent_document_id == doc_id:\n",
    "            doc_found = True\n",
    "            print(doc)\n",
    "\n",
    "    if not doc_found:\n",
    "        print(f\"Document not found for provided Doc ID: `{doc_id}`\")\n",
    "\n",
    "\n",
    "def estimate_data_store_size(\n",
    "    urls: Optional[List[str]] = None,\n",
    "    docs: Optional[List[discoveryengine.Document]] = None,\n",
    "    project_id: str = None,\n",
    "    location: str = None,\n",
    "    datastore_id: str = None,\n",
    ") -> None:\n",
    "    \"\"\"For Advanced Website Indexing data stores only.\"\"\"\n",
    "    if not urls:\n",
    "        if not docs:\n",
    "            docs = list_documents(project_id, location, datastore_id)\n",
    "        urls = list_indexed_urls(docs=docs)\n",
    "\n",
    "    # Filter to only include website urls.\n",
    "    urls = list(filter(lambda x: re.search(r\"https?://\", x), urls))\n",
    "\n",
    "    if not urls:\n",
    "        print(\n",
    "            \"No urls found. Make sure this data store is for websites with advanced indexing.\"\n",
    "        )\n",
    "        return\n",
    "\n",
    "    # For website indexing, each page is calculated as 500KB.\n",
    "    size = len(urls) * 500_000\n",
    "    print(f\"Estimated data store size: {humanize.naturalsize(size)}\")\n",
    "\n",
    "\n",
    "PENDING_MESSAGE = \"\"\"\n",
    "No docs found.\\n\\nIt\\'s likely one of the following issues: \\n  [1] Your data store is not finished indexing. \\n  [2] Your data store failed indexing. \\n  [3] Your data store is for website data without advanced indexing.\\n\\n\n",
    "If you just added your data store, it can take up to 4 hours before it will become available.\n",
    "\"\"\""
   ]
  },
  {
   "cell_type": "code",
   "execution_count": 2,
   "id": "bfdfc609-affb-4699-ae25-862a6ab9ea4b",
   "metadata": {
    "tags": []
   },
   "outputs": [],
   "source": [
    "PROJECT = !gcloud config get-value project\n",
    "project_id  = PROJECT[0]\n",
    "location = \"global\"  # Options: \"global\", \"us\", \"eu\"\n",
    "datastore_id = \"cymbaldatastore_1715229502260\""
   ]
  },
  {
   "cell_type": "code",
   "execution_count": 4,
   "id": "10dc9ce4-de1c-4445-be99-16ef9d836cc3",
   "metadata": {
    "tags": []
   },
   "outputs": [
    {
     "name": "stdout",
     "output_type": "stream",
     "text": [
      "\n",
      "  Success! 🎉\n",
      "\n",
      "  Your indexing is complete.\n",
      "\n",
      "  Your index contains 79 documents.\n",
      "  \n"
     ]
    }
   ],
   "source": [
    "docs = list_documents(project_id, location, datastore_id)\n",
    "\n",
    "if len(docs) == 0:\n",
    "    print(PENDING_MESSAGE)\n",
    "else:\n",
    "    SUCCESS_MESSAGE = f\"\"\"\n",
    "  Success! 🎉\\n\n",
    "  Your indexing is complete.\\n\n",
    "  Your index contains {len(docs)} documents.\n",
    "  \"\"\"\n",
    "    print(SUCCESS_MESSAGE)"
   ]
  },
  {
   "cell_type": "code",
   "execution_count": 5,
   "id": "42574d07-e6bb-4f56-9462-55224286495e",
   "metadata": {
    "tags": []
   },
   "outputs": [
    {
     "data": {
      "text/plain": [
       "name: \"projects/1025354554799/locations/global/collections/default_collection/dataStores/cymbaldatastore_1715229502260/branches/0/documents/01c3140622cfed9a86572e550ed049a0\"\n",
       "id: \"01c3140622cfed9a86572e550ed049a0\"\n",
       "schema_id: \"default_schema\"\n",
       "struct_data {\n",
       "}\n",
       "parent_document_id: \"01c3140622cfed9a86572e550ed049a0\"\n",
       "content {\n",
       "  mime_type: \"text/html\"\n",
       "  uri: \"gs://cloud-samples-data/dialogflow-cx/arc-lifeblood/testing.html\"\n",
       "}"
      ]
     },
     "execution_count": 5,
     "metadata": {},
     "output_type": "execute_result"
    }
   ],
   "source": [
    "docs = list_documents(project_id, location, datastore_id)\n",
    "docs[0]"
   ]
  },
  {
   "cell_type": "code",
   "execution_count": 6,
   "id": "ff078e7d-e7b9-4d1c-97b2-fc53e6e93913",
   "metadata": {
    "tags": []
   },
   "outputs": [
    {
     "name": "stdout",
     "output_type": "stream",
     "text": [
      "Document not found for provided Doc ID: `placeholder_document_id`\n"
     ]
    }
   ],
   "source": [
    "document_id = \"placeholder_document_id\"\n",
    "search_doc_id(document_id, docs=docs)"
   ]
  },
  {
   "cell_type": "code",
   "execution_count": null,
   "id": "c7591a41-8fb0-4b51-b3ab-68914de103af",
   "metadata": {},
   "outputs": [],
   "source": []
  }
 ],
 "metadata": {
  "environment": {
   "kernel": "python3",
   "name": ".m120",
   "type": "gcloud",
   "uri": "us-docker.pkg.dev/deeplearning-platform-release/gcr.io/:m120"
  },
  "kernelspec": {
   "display_name": "Python 3 (ipykernel) (Local)",
   "language": "python",
   "name": "python3"
  },
  "language_info": {
   "codemirror_mode": {
    "name": "ipython",
    "version": 3
   },
   "file_extension": ".py",
   "mimetype": "text/x-python",
   "name": "python",
   "nbconvert_exporter": "python",
   "pygments_lexer": "ipython3",
   "version": "3.10.14"
  }
 },
 "nbformat": 4,
 "nbformat_minor": 5
}
